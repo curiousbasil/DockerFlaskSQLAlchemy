{
  "nbformat": 4,
  "nbformat_minor": 0,
  "metadata": {
    "kernelspec": {
      "display_name": "Python 3",
      "language": "python",
      "name": "python3"
    },
    "language_info": {
      "codemirror_mode": {
        "name": "ipython",
        "version": 3
      },
      "file_extension": ".py",
      "mimetype": "text/x-python",
      "name": "python",
      "nbconvert_exporter": "python",
      "pygments_lexer": "ipython3",
      "version": "3.7.4"
    },
    "colab": {
      "name": "Array Assignment - IS 6651J2",
      "provenance": [],
      "include_colab_link": true
    }
  },
  "cells": [
    {
      "cell_type": "markdown",
      "metadata": {
        "id": "view-in-github",
        "colab_type": "text"
      },
      "source": [
        "<a href=\"https://colab.research.google.com/github/curiousbasil/DockerFlaskSQLAlchemy/blob/master/Array_Assignment_IS_6651J2.ipynb\" target=\"_parent\"><img src=\"https://colab.research.google.com/assets/colab-badge.svg\" alt=\"Open In Colab\"/></a>"
      ]
    },
    {
      "cell_type": "code",
      "metadata": {
        "id": "CGKW3WclEW_c",
        "colab_type": "code",
        "colab": {
          "base_uri": "https://localhost:8080/",
          "height": 122
        },
        "outputId": "ccea7850-a03c-48fb-8e13-f4174bc6d69f"
      },
      "source": [
        "from google.colab import drive\n",
        "drive.mount('/content/drive')"
      ],
      "execution_count": 1,
      "outputs": [
        {
          "output_type": "stream",
          "text": [
            "Go to this URL in a browser: https://accounts.google.com/o/oauth2/auth?client_id=947318989803-6bn6qk8qdgf4n4g3pfee6491hc0brc4i.apps.googleusercontent.com&redirect_uri=urn%3aietf%3awg%3aoauth%3a2.0%3aoob&response_type=code&scope=email%20https%3a%2f%2fwww.googleapis.com%2fauth%2fdocs.test%20https%3a%2f%2fwww.googleapis.com%2fauth%2fdrive%20https%3a%2f%2fwww.googleapis.com%2fauth%2fdrive.photos.readonly%20https%3a%2f%2fwww.googleapis.com%2fauth%2fpeopleapi.readonly\n",
            "\n",
            "Enter your authorization code:\n",
            "··········\n",
            "Mounted at /content/drive\n"
          ],
          "name": "stdout"
        }
      ]
    },
    {
      "cell_type": "markdown",
      "metadata": {
        "id": "7dqtZx53EKNu",
        "colab_type": "text"
      },
      "source": [
        "# NumPy Exercises - Faisal Sukkar\n"
      ]
    },
    {
      "cell_type": "markdown",
      "metadata": {
        "id": "j8pCU0UqEKNx",
        "colab_type": "text"
      },
      "source": [
        "## Defining an array\n"
      ]
    },
    {
      "cell_type": "markdown",
      "metadata": {
        "id": "dlFcZL95EKNy",
        "colab_type": "text"
      },
      "source": [
        "#### Import NumPy as np"
      ]
    },
    {
      "cell_type": "code",
      "metadata": {
        "id": "-Ju89k6-EKNz",
        "colab_type": "code",
        "colab": {}
      },
      "source": [
        "import numpy as np"
      ],
      "execution_count": 0,
      "outputs": []
    },
    {
      "cell_type": "markdown",
      "metadata": {
        "id": "GvwWcvMyEKN3",
        "colab_type": "text"
      },
      "source": [
        "#### Create an array of 10 zeros "
      ]
    },
    {
      "cell_type": "code",
      "metadata": {
        "id": "mkCqsvJPEKN4",
        "colab_type": "code",
        "colab": {
          "base_uri": "https://localhost:8080/",
          "height": 34
        },
        "outputId": "c3dea1f0-1394-4aea-fb23-e613dbe13e70"
      },
      "source": [
        "np.array([0,0,0,0,0,0,0,0,0,0])"
      ],
      "execution_count": 3,
      "outputs": [
        {
          "output_type": "execute_result",
          "data": {
            "text/plain": [
              "array([0, 0, 0, 0, 0, 0, 0, 0, 0, 0])"
            ]
          },
          "metadata": {
            "tags": []
          },
          "execution_count": 3
        }
      ]
    },
    {
      "cell_type": "markdown",
      "metadata": {
        "id": "-_TPQnn3EKOA",
        "colab_type": "text"
      },
      "source": [
        "#### Create an array of 10 ones"
      ]
    },
    {
      "cell_type": "code",
      "metadata": {
        "id": "gJi8ycaNEKOC",
        "colab_type": "code",
        "colab": {
          "base_uri": "https://localhost:8080/",
          "height": 34
        },
        "outputId": "12c699b2-5841-4d73-8ff5-808b6bac1cdc"
      },
      "source": [
        "np.array([1,1,1,1,1,1,1,1,1,1])"
      ],
      "execution_count": 4,
      "outputs": [
        {
          "output_type": "execute_result",
          "data": {
            "text/plain": [
              "array([1, 1, 1, 1, 1, 1, 1, 1, 1, 1])"
            ]
          },
          "metadata": {
            "tags": []
          },
          "execution_count": 4
        }
      ]
    },
    {
      "cell_type": "markdown",
      "metadata": {
        "id": "bMZuFWClEKOG",
        "colab_type": "text"
      },
      "source": [
        "#### Create an array of 10 tens"
      ]
    },
    {
      "cell_type": "code",
      "metadata": {
        "id": "WjyVzCe8EKOK",
        "colab_type": "code",
        "colab": {
          "base_uri": "https://localhost:8080/",
          "height": 34
        },
        "outputId": "cce83b16-434e-49a1-9805-0de2f95e4ee9"
      },
      "source": [
        "np.array([10,10,10,10,10,10,10,10,10,10])\n"
      ],
      "execution_count": 5,
      "outputs": [
        {
          "output_type": "execute_result",
          "data": {
            "text/plain": [
              "array([10, 10, 10, 10, 10, 10, 10, 10, 10, 10])"
            ]
          },
          "metadata": {
            "tags": []
          },
          "execution_count": 5
        }
      ]
    },
    {
      "cell_type": "markdown",
      "metadata": {
        "id": "iYXooP0zEKOS",
        "colab_type": "text"
      },
      "source": [
        "#### Create an array of the integers from 10 to 100"
      ]
    },
    {
      "cell_type": "code",
      "metadata": {
        "id": "h4KcZU0hEKOU",
        "colab_type": "code",
        "colab": {},
        "outputId": "3d8f9ddb-58a6-44fd-f63b-a5a6b0a029fd"
      },
      "source": [
        "np.arange(10, 101, 1)"
      ],
      "execution_count": 0,
      "outputs": [
        {
          "output_type": "execute_result",
          "data": {
            "text/plain": [
              "array([ 10,  11,  12,  13,  14,  15,  16,  17,  18,  19,  20,  21,  22,\n",
              "        23,  24,  25,  26,  27,  28,  29,  30,  31,  32,  33,  34,  35,\n",
              "        36,  37,  38,  39,  40,  41,  42,  43,  44,  45,  46,  47,  48,\n",
              "        49,  50,  51,  52,  53,  54,  55,  56,  57,  58,  59,  60,  61,\n",
              "        62,  63,  64,  65,  66,  67,  68,  69,  70,  71,  72,  73,  74,\n",
              "        75,  76,  77,  78,  79,  80,  81,  82,  83,  84,  85,  86,  87,\n",
              "        88,  89,  90,  91,  92,  93,  94,  95,  96,  97,  98,  99, 100])"
            ]
          },
          "metadata": {
            "tags": []
          },
          "execution_count": 14
        }
      ]
    },
    {
      "cell_type": "markdown",
      "metadata": {
        "id": "VIhVKxcqEKOX",
        "colab_type": "text"
      },
      "source": [
        "#### Create an array of all the odd integers from 10 to 30"
      ]
    },
    {
      "cell_type": "code",
      "metadata": {
        "id": "ihQ9yZHnEKOX",
        "colab_type": "code",
        "colab": {},
        "outputId": "90195e5a-c0b3-4456-e3f4-539cfe78e74e"
      },
      "source": [
        "np.arange(11, 30 , 2)"
      ],
      "execution_count": 0,
      "outputs": [
        {
          "output_type": "execute_result",
          "data": {
            "text/plain": [
              "array([11, 13, 15, 17, 19, 21, 23, 25, 27, 29])"
            ]
          },
          "metadata": {
            "tags": []
          },
          "execution_count": 16
        }
      ]
    },
    {
      "cell_type": "markdown",
      "metadata": {
        "id": "dfWNYINmEKOa",
        "colab_type": "text"
      },
      "source": [
        "#### Create a 3x3 array with values ranging from 0 to 8 "
      ]
    },
    {
      "cell_type": "code",
      "metadata": {
        "id": "OkR31yxVEKOb",
        "colab_type": "code",
        "colab": {},
        "outputId": "e34e31df-3c65-431a-f2df-c4f46e69f887"
      },
      "source": [
        "a = np.array([0,1,2,3,4,5,6,7,8])\n",
        "a.reshape(3,3)\n"
      ],
      "execution_count": 0,
      "outputs": [
        {
          "output_type": "execute_result",
          "data": {
            "text/plain": [
              "array([[0, 1, 2],\n",
              "       [3, 4, 5],\n",
              "       [6, 7, 8]])"
            ]
          },
          "metadata": {
            "tags": []
          },
          "execution_count": 20
        }
      ]
    },
    {
      "cell_type": "markdown",
      "metadata": {
        "id": "vbZV8gPnEKOe",
        "colab_type": "text"
      },
      "source": [
        "#### Create an array of 25 random numbers between 0 and 1"
      ]
    },
    {
      "cell_type": "code",
      "metadata": {
        "id": "wuYr1ykgEKOf",
        "colab_type": "code",
        "colab": {},
        "outputId": "22dac0ef-f90f-45af-f1f9-e3230062ebcc"
      },
      "source": [
        "np.random.sample(25) *1"
      ],
      "execution_count": 0,
      "outputs": [
        {
          "output_type": "execute_result",
          "data": {
            "text/plain": [
              "array([0.4747079 , 0.12786758, 0.52523033, 0.22372279, 0.72894273,\n",
              "       0.11992174, 0.05089637, 0.14021239, 0.17503603, 0.94375881,\n",
              "       0.73789566, 0.19951687, 0.01713538, 0.18661925, 0.06499484,\n",
              "       0.08809836, 0.59667769, 0.18560157, 0.95438616, 0.40516222,\n",
              "       0.97602977, 0.77528226, 0.51125523, 0.51315617, 0.90069192])"
            ]
          },
          "metadata": {
            "tags": []
          },
          "execution_count": 27
        }
      ]
    },
    {
      "cell_type": "markdown",
      "metadata": {
        "id": "G5xdQZVJEKOs",
        "colab_type": "text"
      },
      "source": [
        "#### Create an array of 40 linearly spaced points between 0 and 10:"
      ]
    },
    {
      "cell_type": "code",
      "metadata": {
        "id": "V7y847-GEKOt",
        "colab_type": "code",
        "colab": {},
        "outputId": "341cf694-b9c1-4564-cc3f-d861248e850d"
      },
      "source": [
        "np.linspace(1,10,40)"
      ],
      "execution_count": 0,
      "outputs": [
        {
          "output_type": "execute_result",
          "data": {
            "text/plain": [
              "array([ 1.        ,  1.23076923,  1.46153846,  1.69230769,  1.92307692,\n",
              "        2.15384615,  2.38461538,  2.61538462,  2.84615385,  3.07692308,\n",
              "        3.30769231,  3.53846154,  3.76923077,  4.        ,  4.23076923,\n",
              "        4.46153846,  4.69230769,  4.92307692,  5.15384615,  5.38461538,\n",
              "        5.61538462,  5.84615385,  6.07692308,  6.30769231,  6.53846154,\n",
              "        6.76923077,  7.        ,  7.23076923,  7.46153846,  7.69230769,\n",
              "        7.92307692,  8.15384615,  8.38461538,  8.61538462,  8.84615385,\n",
              "        9.07692308,  9.30769231,  9.53846154,  9.76923077, 10.        ])"
            ]
          },
          "metadata": {
            "tags": []
          },
          "execution_count": 28
        }
      ]
    },
    {
      "cell_type": "markdown",
      "metadata": {
        "id": "imoODWpTEKOx",
        "colab_type": "text"
      },
      "source": [
        "## Indexing \n"
      ]
    },
    {
      "cell_type": "code",
      "metadata": {
        "id": "QYqnChszEKOx",
        "colab_type": "code",
        "colab": {},
        "outputId": "6b7c6acf-f619-467f-df88-2132206e1b8b"
      },
      "source": [
        "#You are given the following 2D array\n",
        "a = np.arange(1,25).reshape(4,-1)\n",
        "a"
      ],
      "execution_count": 0,
      "outputs": [
        {
          "output_type": "execute_result",
          "data": {
            "text/plain": [
              "array([[ 1,  2,  3,  4,  5,  6],\n",
              "       [ 7,  8,  9, 10, 11, 12],\n",
              "       [13, 14, 15, 16, 17, 18],\n",
              "       [19, 20, 21, 22, 23, 24]])"
            ]
          },
          "metadata": {
            "tags": []
          },
          "execution_count": 103
        }
      ]
    },
    {
      "cell_type": "code",
      "metadata": {
        "id": "RpJqUbhsEKO1",
        "colab_type": "code",
        "colab": {},
        "outputId": "8d7fa143-f348-4b45-ae10-719e124d8a92"
      },
      "source": [
        "# Use array indexing to select the subset that contains 9,10,11,12,15,16,17,18,21,22,23,24. \n",
        "# In other words, the 3 * 4 sub-matrix in the bottom right corner of your array\n",
        "# I have shown you the output -- be careful, if you run your code, it is going to \"wipe out\" my output\n",
        "a2 = np.delete(np.delete(a,0,0), [0,1], 1)\n",
        "a2"
      ],
      "execution_count": 0,
      "outputs": [
        {
          "output_type": "execute_result",
          "data": {
            "text/plain": [
              "array([[ 9, 10, 11, 12],\n",
              "       [15, 16, 17, 18],\n",
              "       [21, 22, 23, 24]])"
            ]
          },
          "metadata": {
            "tags": []
          },
          "execution_count": 104
        }
      ]
    },
    {
      "cell_type": "code",
      "metadata": {
        "id": "o-A1G1BMEKO5",
        "colab_type": "code",
        "colab": {},
        "outputId": "4f55d2f0-28a9-4d8d-f249-61261520d670"
      },
      "source": [
        "# Use array indexing  get the value 20, as my output shows\n",
        "a[3][1]"
      ],
      "execution_count": 0,
      "outputs": [
        {
          "output_type": "execute_result",
          "data": {
            "text/plain": [
              "20"
            ]
          },
          "metadata": {
            "tags": []
          },
          "execution_count": 105
        }
      ]
    },
    {
      "cell_type": "code",
      "metadata": {
        "id": "9LT2ew1tEKO9",
        "colab_type": "code",
        "colab": {},
        "outputId": "c005e189-0fa0-4c94-ad68-4741e0cc3b78"
      },
      "source": [
        "# Use array indexing  get the column 10, 16, 22, as my output shows\n",
        "a2[:,[1]]"
      ],
      "execution_count": 0,
      "outputs": [
        {
          "output_type": "execute_result",
          "data": {
            "text/plain": [
              "array([[10],\n",
              "       [16],\n",
              "       [22]])"
            ]
          },
          "metadata": {
            "tags": []
          },
          "execution_count": 106
        }
      ]
    },
    {
      "cell_type": "code",
      "metadata": {
        "id": "aTCElkwGEKPB",
        "colab_type": "code",
        "colab": {},
        "outputId": "d8d85f82-f2f1-4c17-8ace-e81deccc6178"
      },
      "source": [
        "# Use array indexing  get the row [15,16,17] as my output shows\n",
        "a2[[1],:3]"
      ],
      "execution_count": 0,
      "outputs": [
        {
          "output_type": "execute_result",
          "data": {
            "text/plain": [
              "array([[15, 16, 17]])"
            ]
          },
          "metadata": {
            "tags": []
          },
          "execution_count": 107
        }
      ]
    },
    {
      "cell_type": "markdown",
      "metadata": {
        "id": "MCgIcJFzEKPE",
        "colab_type": "text"
      },
      "source": [
        "### Now the hard task!"
      ]
    },
    {
      "cell_type": "markdown",
      "metadata": {
        "id": "-GSVWr2HEKPE",
        "colab_type": "text"
      },
      "source": [
        "#### Write a function that gives the users four random integers between 1 and 10 and ask them to enter the square number of them. If the user answers all of them correctly, congratulate them. Otherwise, show them the right answer"
      ]
    },
    {
      "cell_type": "code",
      "metadata": {
        "id": "U2q2vGlVEKPF",
        "colab_type": "code",
        "colab": {}
      },
      "source": [
        "# Step 0: Import numpy -- ALWAYS import all the libraries you need at the beginning!\n",
        "import numpy as np\n",
        "\n",
        "#Step 1: Function creation -- refer to the last lab for the syntax of function creation\n",
        "# does our function take parameters?\n",
        "# Create your function here:\n",
        "\n",
        "    \n",
        "#Step 2: Create an array of four random integers between 1 and 10 \n",
        "   \n",
        "#Step 3: Print your numbers\n",
        "\n",
        "\n",
        "#Step 4: Prompt the user to enter four numbers, ONE AT A TIME. Use a loop to store these four numbers in a new array\n",
        "#  HINT 1: We could take all four numbers in through one line, but to practice loop, let's do it the hard way\n",
        "#  HINT 2: You can start by creating an empty array -- np.array([]), then appending to it one at a time\n",
        "#  HINT 3: Remember, input() only returns STRINGS. You need to turn them into integers\n",
        "\n",
        "\n",
        "\n",
        "\n",
        "\n",
        "\n",
        "\n",
        "\n",
        "\n",
        "\n",
        "\n",
        "\n",
        "\n",
        "\n",
        "#Step 5: Now that you have the two arrays, you can compare them using array functions and decide whether the answers are correct\n",
        "#  HINT 4: To compare two arrays, you can use array1 == array2 -- however, you have to use a variable to hold the result\n",
        "#          The resulted array is an array of Boolean values. To quickly check whether it contains true value, you might want to\n",
        "#          use the all() or any() function...\n",
        "\n",
        "\n",
        "\n",
        "\n",
        "\n",
        "    "
      ],
      "execution_count": 0,
      "outputs": []
    }
  ]
}